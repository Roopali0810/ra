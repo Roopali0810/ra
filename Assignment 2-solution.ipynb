{
 "cells": [
  {
   "cell_type": "markdown",
   "metadata": {},
   "source": [
    "## Write a Python Program to implement your own myreduce() function which works exactly like Python's built-in function reduce()"
   ]
  },
  {
   "cell_type": "code",
   "execution_count": 1,
   "metadata": {},
   "outputs": [
    {
     "name": "stdout",
     "output_type": "stream",
     "text": [
      "10\n",
      "24\n"
     ]
    }
   ],
   "source": [
    "def myreduce(f,l):\n",
    "    a=f(l[0],l[1])\n",
    "    for i in range(2,len(l)):\n",
    "        a = f(a,l[i])\n",
    "    return a\n",
    "\n",
    "def mult(x,y):\n",
    "    return x*y\n",
    "\n",
    "    \n",
    "def sum1(a,b):\n",
    "    return a+b\n",
    "\n",
    "\n",
    "l=[1,2,3,4]\n",
    "\n",
    "b=myreduce(sum1,l)\n",
    "print(b)\n",
    "\n",
    "c = myreduce(mult,l)\n",
    "print(c)\n",
    "    \n"
   ]
  },
  {
   "cell_type": "markdown",
   "metadata": {},
   "source": [
    "## Task - 1.2 - Write a Python program to implement your own myfilter() function which works exactly like Python's built-in function filter()"
   ]
  },
  {
   "cell_type": "code",
   "execution_count": 2,
   "metadata": {},
   "outputs": [
    {
     "name": "stdout",
     "output_type": "stream",
     "text": [
      "Even numbers :  [2, 4]\n",
      "Vowels :  ['e', 'a', 'o']\n"
     ]
    }
   ],
   "source": [
    "l=[1,2,3,4,5]\n",
    "x = ['g', 'r','e','a','k','v','o']\n",
    "def even(n):\n",
    "    if n%2==0:\n",
    "        return True\n",
    "\n",
    "def vowel(n):\n",
    "    v = ['a','e','i','o','u']\n",
    "    if n in v:\n",
    "        return True\n",
    "    \n",
    "def myfilter(f,l):\n",
    "    m=[]\n",
    "    for i in l:\n",
    "        a = f(i)\n",
    "        if a == True:\n",
    "            m.append(i)\n",
    "    return m\n",
    "     \n",
    "print(\"Even numbers : \" ,list(myfilter(even,l)))\n",
    "\n",
    "print(\"Vowels : \",list(myfilter(vowel,x)))"
   ]
  },
  {
   "cell_type": "markdown",
   "metadata": {},
   "source": [
    "## Task -2 - Implement List comprehensions to produce the following lists.\n",
    "## Write List comprehensions to produce the following Lists\n",
    "## ['A', 'C', 'A', 'D', 'G', 'I', ’L’, ‘ D’]"
   ]
  },
  {
   "cell_type": "code",
   "execution_count": 3,
   "metadata": {},
   "outputs": [
    {
     "name": "stdout",
     "output_type": "stream",
     "text": [
      "['A', 'C', 'A', 'D', 'G', 'I', 'L', 'D']\n"
     ]
    }
   ],
   "source": [
    "# 2.\n",
    "# Implement List comprehensions to produce the following lists.\n",
    "# Write List comprehensions to produce the following Lists\n",
    "# ['A', 'C', 'A', 'D', 'G', 'I', ’L’, ‘ D’]\n",
    "s = \"ACADGILD\"\n",
    "d=[i for i in s]\n",
    "print(d)"
   ]
  },
  {
   "cell_type": "markdown",
   "metadata": {},
   "source": [
    "## ['x', 'xx', 'xxx', 'xxxx', 'y', 'yy', 'yyy', 'yyyy', 'z', 'zz', 'zzz', 'zzzz']"
   ]
  },
  {
   "cell_type": "code",
   "execution_count": 4,
   "metadata": {},
   "outputs": [
    {
     "name": "stdout",
     "output_type": "stream",
     "text": [
      "['x', 'xx', 'xxx', 'xxxx', 'y', 'yy', 'yyy', 'yyyy', 'z', 'zz', 'zzz', 'zzzz']\n"
     ]
    }
   ],
   "source": [
    "l=[\"x\",\"y\",\"z\"]\n",
    "k=[i*j for i in l for j in range(1,5)]\n",
    "print(k)"
   ]
  },
  {
   "cell_type": "markdown",
   "metadata": {},
   "source": [
    "## ['x', 'y', 'z', 'xx', 'yy', 'zz', 'xx', 'yy', 'zz', 'xxxx', 'yyyy', 'zzzz']"
   ]
  },
  {
   "cell_type": "code",
   "execution_count": 5,
   "metadata": {},
   "outputs": [
    {
     "name": "stdout",
     "output_type": "stream",
     "text": [
      "['x', 'y', 'z', 'xx', 'yy', 'zz', 'xxx', 'yyy', 'zzz', 'xxxx', 'yyyy', 'zzzz']\n"
     ]
    }
   ],
   "source": [
    "l=[\"x\",\"y\",\"z\"]\n",
    "h=[i*j for i in range(1,5) for j in l]\n",
    "print(h)"
   ]
  },
  {
   "cell_type": "markdown",
   "metadata": {},
   "source": [
    "## [[2], [3], [4], [3], [4], [5], [4], [5], [6]]"
   ]
  },
  {
   "cell_type": "code",
   "execution_count": 6,
   "metadata": {},
   "outputs": [
    {
     "data": {
      "text/plain": [
       "[[2], [3], [4], [3], [4], [5], [4], [5], [6]]"
      ]
     },
     "execution_count": 6,
     "metadata": {},
     "output_type": "execute_result"
    }
   ],
   "source": [
    "l=[[a+b] for a in range(2,5) for b in range(3)]\n",
    "l"
   ]
  },
  {
   "cell_type": "markdown",
   "metadata": {},
   "source": [
    "## [[2, 3, 4, 5], [3, 4, 5, 6], [4, 5, 6, 7], [5, 6, 7, 8]]"
   ]
  },
  {
   "cell_type": "code",
   "execution_count": 7,
   "metadata": {},
   "outputs": [
    {
     "data": {
      "text/plain": [
       "[[2, 3, 4, 5], [3, 4, 5, 6], [4, 5, 6, 7], [5, 6, 7, 8]]"
      ]
     },
     "execution_count": 7,
     "metadata": {},
     "output_type": "execute_result"
    }
   ],
   "source": [
    "l=[[a+b for a in range(2,6)] for b in range(4)]\n",
    "l"
   ]
  },
  {
   "cell_type": "markdown",
   "metadata": {},
   "source": [
    "## [(1, 1), (2, 1), (3, 1), (1, 2), (2, 2), (3, 2), (1, 3), (2, 3), (3, 3)]"
   ]
  },
  {
   "cell_type": "code",
   "execution_count": 8,
   "metadata": {},
   "outputs": [
    {
     "data": {
      "text/plain": [
       "[(1, 1), (2, 1), (3, 1), (1, 2), (2, 2), (3, 2), (1, 3), (2, 3), (3, 3)]"
      ]
     },
     "execution_count": 8,
     "metadata": {},
     "output_type": "execute_result"
    }
   ],
   "source": [
    "l=[(b,a) for a in range(1,4) for b in range(1,4)]\n",
    "l"
   ]
  },
  {
   "cell_type": "markdown",
   "metadata": {},
   "source": [
    "## Task 1-3 : Implement a function longestWord() that takes a list of words and returns the longest one."
   ]
  },
  {
   "cell_type": "code",
   "execution_count": 9,
   "metadata": {},
   "outputs": [],
   "source": [
    "#Task 1-3 : Implement a function longestWord() that takes a list of words and returns the longest one.\n",
    "def LongestWord(l_w):\n",
    "    l = len(l_w[0])\n",
    "    for i in l_w:\n",
    "        if len(i)>l:\n",
    "            l=len(i)\n",
    "            long_word=i\n",
    "    return long_word"
   ]
  },
  {
   "cell_type": "code",
   "execution_count": 14,
   "metadata": {},
   "outputs": [
    {
     "name": "stdout",
     "output_type": "stream",
     "text": [
      "You are allowed to enter only 5 words\n",
      "Enter the word : if\n",
      "Enter the word : for\n",
      "Enter the word : python\n",
      "Enter the word : while\n",
      "Enter the word : nest\n",
      "The longest word is  python\n"
     ]
    }
   ],
   "source": [
    "#In this program, I am only taking 5 words as input, we can take any number of words\n",
    "l1=[]\n",
    "print(\"You are allowed to enter only 5 words\")\n",
    "for j in range(5):\n",
    "    k = input(\"Enter the word : \")\n",
    "    l1.append(k)\n",
    "w = LongestWord(l1)\n",
    "print(\"The longest word is \" , w)"
   ]
  },
  {
   "cell_type": "markdown",
   "metadata": {},
   "source": [
    "## Task - 1.1 - Write a Python Program(with class concepts) to find the area of the triangle using the below formula.\n",
    "## area = (s*(s-a)*(s-b)*(s-c)) ** 0.5\n",
    "## Function to take the length of the sides of triangle from user should be defined in the parent class and function to calculate the area should be defined in subclass."
   ]
  },
  {
   "cell_type": "code",
   "execution_count": 15,
   "metadata": {},
   "outputs": [],
   "source": [
    "#Parent class to take sides of triangle as input \n",
    "class tri_side:\n",
    "    def __init__(self):\n",
    "        self.sides = 3\n",
    "    def input_sides(self):   # Function to take input from user\n",
    "        self.side_a = int(input(\"Enter 1st side of the triangle : \"))\n",
    "        self.side_b = int(input(\"Enter 2nd side of the triangle : \"))\n",
    "        self.side_c = int(input(\"Enter 3rd side of the triangle : \"))"
   ]
  },
  {
   "cell_type": "code",
   "execution_count": 16,
   "metadata": {},
   "outputs": [],
   "source": [
    "#Inherited class from the parent class. \n",
    "class tri_area(tri_side):\n",
    "    def __init__(self):\n",
    "        tri_side.__init__(self)\n",
    "    \n",
    "    def area_of_tri(self):    #Function to calculate the area of a triangle\n",
    "        a = self.side_a\n",
    "        b = self.side_b\n",
    "        c = self.side_c\n",
    "        s = (a+b+c)/2\n",
    "        area = (s*(s-a)*(s-b)*(s-c))*0.5\n",
    "        print(\"The area of the triangle is %0.2f\" %area)\n",
    "    "
   ]
  },
  {
   "cell_type": "code",
   "execution_count": 18,
   "metadata": {},
   "outputs": [
    {
     "name": "stdout",
     "output_type": "stream",
     "text": [
      "Enter 1st side of the triangle : 2\n",
      "Enter 2nd side of the triangle : 3\n",
      "Enter 3rd side of the triangle : 4\n",
      "The area of the triangle is 4.22\n"
     ]
    }
   ],
   "source": [
    "c = tri_area()  #creating an instance of the child class\n",
    "c.input_sides()  # calling the parent function input_sides() \n",
    "c.area_of_tri()  # calling th function to find area of the triangle"
   ]
  },
  {
   "cell_type": "markdown",
   "metadata": {},
   "source": [
    "## Task 2 -1.2 : Write a function filter_long_words() that takes a list of words and an integer n and returns the list of words that are longer than n."
   ]
  },
  {
   "cell_type": "code",
   "execution_count": 19,
   "metadata": {},
   "outputs": [],
   "source": [
    "# Task 2 -1.2 : Write a function filter_long_words() that takes a list of words and an integer n and returns the list\n",
    "# of words that are longer than n.\n",
    "\n",
    "def filter_long_words(l_o_w,n):\n",
    "    m=[]\n",
    "    for i in l_o_w:\n",
    "        if len(i)>n:\n",
    "            m.append(i)\n",
    "    return m"
   ]
  },
  {
   "cell_type": "code",
   "execution_count": 20,
   "metadata": {},
   "outputs": [
    {
     "name": "stdout",
     "output_type": "stream",
     "text": [
      "You are allowed to enter only 5 words\n",
      "Enter a word : as\n",
      "Enter a word : for\n",
      "Enter a word : python\n",
      "Enter a word : while\n",
      "Enter a word : nest\n",
      "Enter a number and we will display the list of integers whose length is greater than the number : 4\n",
      "The list of words greater than the number is :  ['python', 'while']\n"
     ]
    }
   ],
   "source": [
    "#In this program, I am only taking 5 words as input, we can take any number of words\n",
    "l=[]\n",
    "print(\"You are allowed to enter only 5 words\")\n",
    "for j in range(5):\n",
    "    k = input(\"Enter a word : \")\n",
    "    l.append(k)\n",
    "num = int(input(\"Enter a number and we will display the list of integers whose length is greater than the number : \"))\n",
    "w = filter_long_words(l,num)\n",
    "if len(w)==0:\n",
    "    print(\"There is no word in the list greater than the number you have entered.\")\n",
    "else:\n",
    "    print(\"The list of words greater than the number is : \",w)"
   ]
  },
  {
   "cell_type": "markdown",
   "metadata": {},
   "source": [
    "## Task 2.1 - Write a Python program using function concept that maps list of words into a list of integers representing the lengths of the corresponding words."
   ]
  },
  {
   "cell_type": "code",
   "execution_count": 21,
   "metadata": {},
   "outputs": [],
   "source": [
    "# Task 2.1 - Write a Python program using function concept that maps list of words into a list of integers\n",
    "# representing the lengths of the corresponding words.\n",
    "def words_int(s):\n",
    "    return len(s)"
   ]
  },
  {
   "cell_type": "code",
   "execution_count": 22,
   "metadata": {},
   "outputs": [
    {
     "data": {
      "text/plain": [
       "[3, 6, 5, 8, 1]"
      ]
     },
     "execution_count": 22,
     "metadata": {},
     "output_type": "execute_result"
    }
   ],
   "source": [
    "l = [\"abc\", \"uefhdf\",\"jhsdj\",\"sjdrncfk\", \"s\"]\n",
    "list(map(words_int,l))\n"
   ]
  },
  {
   "cell_type": "markdown",
   "metadata": {},
   "source": [
    "## Task 2.2 - Write a Python function which takes a character (i.e. a string of length 1) and returns True if it is a vowel, False otherwise.\n"
   ]
  },
  {
   "cell_type": "code",
   "execution_count": 23,
   "metadata": {},
   "outputs": [],
   "source": [
    "# Task 2.2 - Write a Python function which takes a character (i.e. a string of length 1) and returns True if it is\n",
    "# a vowel, False otherwise.\n",
    "\n",
    "#The function vowel_check to determine whether the character is a vowel or not\n",
    "def vowel_check(c):\n",
    "    b = ['a','e','i','o','u']\n",
    "    if c in b:\n",
    "        return True\n",
    "    else:\n",
    "        return False"
   ]
  },
  {
   "cell_type": "code",
   "execution_count": 24,
   "metadata": {},
   "outputs": [
    {
     "name": "stdout",
     "output_type": "stream",
     "text": [
      "Enter a character to check whether it is vowel or not : a\n",
      "True\n"
     ]
    }
   ],
   "source": [
    "s = input(\"Enter a character to check whether it is vowel or not : \")\n",
    "if len(s)==1:   # This line checks whether the input is a string or a character\n",
    "    v = vowel_check(s)\n",
    "    print(v)\n",
    "else: \n",
    "    print(\"The text entered is not a character. Kindly input only 1 character\")\n"
   ]
  },
  {
   "cell_type": "code",
   "execution_count": null,
   "metadata": {},
   "outputs": [],
   "source": []
  }
 ],
 "metadata": {
  "kernelspec": {
   "display_name": "Python 3",
   "language": "python",
   "name": "python3"
  },
  "language_info": {
   "codemirror_mode": {
    "name": "ipython",
    "version": 3
   },
   "file_extension": ".py",
   "mimetype": "text/x-python",
   "name": "python",
   "nbconvert_exporter": "python",
   "pygments_lexer": "ipython3",
   "version": "3.7.4"
  }
 },
 "nbformat": 4,
 "nbformat_minor": 2
}
